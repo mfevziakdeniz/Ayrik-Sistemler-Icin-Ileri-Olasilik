{
  "nbformat": 4,
  "nbformat_minor": 0,
  "metadata": {
    "colab": {
      "name": "Ayrık_Sistemler_Icın_Ileri_Olasilik_HW_1_MFevzi_AKDENIZ_185112043.ipynb",
      "provenance": [],
      "collapsed_sections": [],
      "toc_visible": true,
      "include_colab_link": true
    },
    "kernelspec": {
      "name": "python3",
      "display_name": "Python 3"
    }
  },
  "cells": [
    {
      "cell_type": "markdown",
      "metadata": {
        "id": "view-in-github",
        "colab_type": "text"
      },
      "source": [
        "<a href=\"https://colab.research.google.com/github/mfevziakdeniz/Ayrik-Sistemler-Icin-Ileri-Olasilik/blob/master/Ayr%C4%B1k_Sistemler_Ic%C4%B1n_Ileri_Olasilik_HW_1_MFevzi_AKDENIZ_185112043.ipynb\" target=\"_parent\"><img src=\"https://colab.research.google.com/assets/colab-badge.svg\" alt=\"Open In Colab\"/></a>"
      ]
    },
    {
      "cell_type": "code",
      "metadata": {
        "id": "jXyCjSEZYYG0",
        "colab_type": "code",
        "colab": {}
      },
      "source": [
        "def perHesapla(deger): #perHesapla isimli içine değer alan fonksiyon tanımlıyoruz\n",
        "    if not deger: #fonk.içindeki değer boş ise değeri boş döndür\n",
        "        return [deger]  \n",
        "    else: # boş değilse\n",
        "        liste = [] # boş bir liste tanımlıyoruz\n",
        "        for k in range(len(deger)): # fonksiyonun içine aldığı string karakterin uzunluğu kadar döngü oluşturuyoruz\n",
        "            part = deger[:k] + deger[k+1:] # fonksiyonun içine aldığı string değeri en solundaki karakterinden başlayarak sağa doğru sırasıyla bir karakter almayarak part değişkenine atıyoruz   \n",
        "            for m in perHesapla(part): #perHesapla fonksiyonumuzu içine part değişkeni koyarak rekürsif olarak çağırıyoruz \n",
        "                liste.append(deger[k:k+1] + m) # oluşan yeni stringi listemize \"append\" fonksiyonu aracılığıyla var olan değerlerin yanına ekliyoruz\n",
        "        return liste #döngülerin sonunda oluşan son liste değerini döndürüyoruz\n",
        "perHesapla('abcd') # fonksiyona 'abcd' stringini gönderiyor ve a-b-c-d karakterleri ile yazılması mümkün olan tüm stringleri elde ediyoruz\n"
      ],
      "execution_count": 0,
      "outputs": []
    },
    {
      "cell_type": "markdown",
      "metadata": {
        "id": "tQI7mqSJGOQr",
        "colab_type": "text"
      },
      "source": [
        "Ayrık Sistemler İçin İleri Olasılık Dersi - Ödev 1"
      ]
    },
    {
      "cell_type": "markdown",
      "metadata": {
        "id": "aloS0imTIhIH",
        "colab_type": "text"
      },
      "source": [
        "Ödev: Permutasyon probleminin python kodları ile çözümlenmesi."
      ]
    },
    {
      "cell_type": "markdown",
      "metadata": {
        "id": "tMtvJtRSInBE",
        "colab_type": "text"
      },
      "source": [
        "Problem: String bir değerin karakterlerinin kullanılmasıyla olası tüm string değerlerin tekrarsız olarak bulunması."
      ]
    },
    {
      "cell_type": "markdown",
      "metadata": {
        "id": "6cPh-0lQIq2l",
        "colab_type": "text"
      },
      "source": [
        "M.Fevzi AKDENİZ - 185112043"
      ]
    }
  ]
}